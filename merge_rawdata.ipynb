{
 "cells": [
  {
   "cell_type": "code",
   "execution_count": 2,
   "metadata": {},
   "outputs": [],
   "source": [
    "import os\n",
    "import pandas as pd"
   ]
  },
  {
   "cell_type": "code",
   "execution_count": 5,
   "metadata": {},
   "outputs": [],
   "source": [
    "#Combining all 2013 files\n",
    "file_2013 =open(\"Combined Data/2013-citibike.csv\",\"a\")\n",
    "\n",
    "for month in range(7,13):\n",
    "    path = os.path.join(\"Raw Data\", \"2013\"+str(month).zfill(2)+\"-citibike-tripdata.csv\")\n",
    "    for file in open(path):\n",
    "         file_2013.write(file)    \n",
    "file_2013.close()"
   ]
  },
  {
   "cell_type": "code",
   "execution_count": 3,
   "metadata": {},
   "outputs": [],
   "source": [
    "#Combining all 2014 ~ 2018 files\n",
    "file_2014 =open(\"Combined Data/2014-citibike.csv\",\"a\")\n",
    "file_2015 =open(\"Combined Data/2015-citibike.csv\",\"a\")\n",
    "file_2016 =open(\"Combined Data/2016-citibike.csv\",\"a\")\n",
    "file_2017 =open(\"Combined Data/2017-citibike.csv\",\"a\")\n",
    "file_2018 =open(\"Combined Data/2018-citibike.csv\",\"a\")\n",
    "\n",
    "for year in range(2014, 2019):\n",
    "    for month in range(1,13):\n",
    "        path = os.path.join(\"Raw Data\", str(year)+str(month).zfill(2)+\"-citibike-tripdata.csv\")\n",
    "        for file in open(path):\n",
    "            if (year == 2014):\n",
    "                file_2014.write(file)\n",
    "            elif (year == 2015):\n",
    "                file_2015.write(file)\n",
    "            elif (year == 2016):\n",
    "                file_2016.write(file)\n",
    "            elif (year == 2017):\n",
    "                file_2017.write(file)\n",
    "            elif (year == 2018):\n",
    "                file_2018.write(file)\n",
    "file_2014.close()\n",
    "file_2015.close()\n",
    "file_2016.close()\n",
    "file_2017.close()\n",
    "file_2018.close()"
   ]
  },
  {
   "cell_type": "code",
   "execution_count": 4,
   "metadata": {},
   "outputs": [],
   "source": [
    "file_2019 =open(\"Combined Data/2019-citibike.csv\",\"a\")\n",
    "\n",
    "for month in range(1,4):\n",
    "    path = os.path.join(\"Raw Data\", \"2019\"+str(month).zfill(2)+\"-citibike-tripdata.csv\")\n",
    "    for file in open(path):\n",
    "         file_2019.write(file)    \n",
    "file_2019.close()"
   ]
  },
  {
   "cell_type": "code",
   "execution_count": null,
   "metadata": {},
   "outputs": [],
   "source": []
  }
 ],
 "metadata": {
  "kernelspec": {
   "display_name": "Python 3",
   "language": "python",
   "name": "python3"
  },
  "language_info": {
   "codemirror_mode": {
    "name": "ipython",
    "version": 3
   },
   "file_extension": ".py",
   "mimetype": "text/x-python",
   "name": "python",
   "nbconvert_exporter": "python",
   "pygments_lexer": "ipython3",
   "version": "3.7.1"
  }
 },
 "nbformat": 4,
 "nbformat_minor": 2
}
