{
 "cells": [
  {
   "cell_type": "code",
   "execution_count": 11,
   "metadata": {},
   "outputs": [],
   "source": [
    "import os\n",
    "import pandas as pd\n",
    "import numpy as np \n",
    "from zipfile import ZipFile"
   ]
  },
  {
   "cell_type": "code",
   "execution_count": 22,
   "metadata": {},
   "outputs": [],
   "source": [
    "#Extracting files from 2014 ~ 2018\n",
    "\n",
    "name = \"citibike-tripdata\"\n",
    "\n",
    "for year in range(2014, 2019):\n",
    "    for month in range(1, 13):\n",
    "        file_name = name + str(year)+ str(month).zfill(2)+ \".zip\"\n",
    "        path = os.path.join('Resources', file_name)\n",
    "        zf = ZipFile(path, 'r')\n",
    "        zf.extractall('Raw Data')\n",
    "        zf.close()"
   ]
  },
  {
   "cell_type": "code",
   "execution_count": 23,
   "metadata": {},
   "outputs": [],
   "source": [
    "#Extracting files from 2013\n",
    "\n",
    "name = \"citibike-tripdata\"\n",
    "\n",
    "for year in range(2013, 2014):\n",
    "    for month in range(7, 13):\n",
    "        file_name = name + str(year)+ str(month).zfill(2)+ \".zip\"\n",
    "        path = os.path.join('Resources', file_name)\n",
    "        zf = ZipFile(path, 'r')\n",
    "        zf.extractall('Raw Data')\n",
    "        zf.close()"
   ]
  },
  {
   "cell_type": "code",
   "execution_count": 24,
   "metadata": {},
   "outputs": [],
   "source": [
    "#Extracting files from 2019\n",
    "\n",
    "name = \"citibike-tripdata\"\n",
    "\n",
    "for year in range(2019, 2020):\n",
    "    for month in range(1, 4):\n",
    "        file_name = name + str(year)+ str(month).zfill(2)+ \".zip\"\n",
    "        path = os.path.join('Resources', file_name)\n",
    "        zf = ZipFile(path, 'r')\n",
    "        zf.extractall('Raw Data')\n",
    "        zf.close()"
   ]
  }
 ],
 "metadata": {
  "kernelspec": {
   "display_name": "Python 3",
   "language": "python",
   "name": "python3"
  },
  "language_info": {
   "codemirror_mode": {
    "name": "ipython",
    "version": 3
   },
   "file_extension": ".py",
   "mimetype": "text/x-python",
   "name": "python",
   "nbconvert_exporter": "python",
   "pygments_lexer": "ipython3",
   "version": "3.7.1"
  }
 },
 "nbformat": 4,
 "nbformat_minor": 2
}
